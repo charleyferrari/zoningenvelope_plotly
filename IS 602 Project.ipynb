{
 "cells": [
  {
   "cell_type": "markdown",
   "metadata": {},
   "source": [
    "# IS 602 Final Project"
   ]
  },
  {
   "cell_type": "markdown",
   "metadata": {},
   "source": [
    "## Analyzing spare development capacity under New York's current zoning."
   ]
  },
  {
   "cell_type": "markdown",
   "metadata": {},
   "source": [
    "### By Charley Ferrari"
   ]
  },
  {
   "cell_type": "code",
   "execution_count": 1,
   "metadata": {
    "collapsed": false
   },
   "outputs": [],
   "source": [
    "import os\n",
    "import csv\n",
    "#import Tkinter\n",
    "#import tkFileDialog\n",
    "import copy\n",
    "import re\n",
    "import pandas as pd\n",
    "import math\n",
    "import numpy as np\n",
    "import re\n",
    "from mpl_toolkits.basemap import Basemap\n",
    "import matplotlib.pyplot as plt\n",
    "import mpl_toolkits.basemap.pyproj as pyproj\n",
    "%matplotlib inline\n",
    "\n",
    "import plotly.plotly as py\n",
    "import plotly.tools as tls\n",
    "from plotly.graph_objs import *\n",
    "\n",
    "import warnings\n",
    "warnings.filterwarnings('ignore')"
   ]
  },
  {
   "cell_type": "markdown",
   "metadata": {},
   "source": [
    "### Loading in the data"
   ]
  },
  {
   "cell_type": "markdown",
   "metadata": {},
   "source": [
    "There are errors but that won't matter. I'm either not using those columns or deal with the datatypes"
   ]
  },
  {
   "cell_type": "code",
   "execution_count": 2,
   "metadata": {
    "collapsed": false
   },
   "outputs": [],
   "source": [
    "bx = pd.read_csv('bx.csv')\n",
    "bk = pd.read_csv('bk.csv')\n",
    "mn = pd.read_csv('mn.csv')\n",
    "qn = pd.read_csv('qn.csv')\n",
    "si = pd.read_csv('si.csv')\n",
    "nyc = pd.concat([bx,bk,mn,qn,si], ignore_index=True)\n",
    "    "
   ]
  },
  {
   "cell_type": "markdown",
   "metadata": {},
   "source": [
    "Convert the columns I do need to string (for some reason in the import Pandas didn't deal with blank values too well, and made them a different type.)"
   ]
  },
  {
   "cell_type": "code",
   "execution_count": 3,
   "metadata": {
    "collapsed": false
   },
   "outputs": [],
   "source": [
    "nyc['ZoneDist1'] = nyc['ZoneDist1'].astype(str)\n",
    "nyc['ZoneDist2'] = nyc['ZoneDist2'].astype(str)\n",
    "nyc['ZoneDist3'] = nyc['ZoneDist3'].astype(str)\n",
    "nyc['ZoneDist4'] = nyc['ZoneDist4'].astype(str)"
   ]
  },
  {
   "cell_type": "code",
   "execution_count": 4,
   "metadata": {
    "collapsed": false
   },
   "outputs": [],
   "source": [
    "#for i in np.arange(0, len(nyc)):\n",
    "#    nyc['ZoneDist1'][i] = str(nyc['ZoneDist1'][i])\n",
    "#    nyc['ZoneDist2'][i] = str(nyc['ZoneDist2'][i])\n",
    "#    nyc['ZoneDist3'][i] = str(nyc['ZoneDist3'][i])\n",
    "#    nyc['ZoneDist4'][i] = str(nyc['ZoneDist4'][i])"
   ]
  },
  {
   "cell_type": "markdown",
   "metadata": {},
   "source": [
    "Now to filter the data to what I want. I'm filtering any zone that begins in R, and taking some of the mixed used zones that contain residential uses (hence the '/R'). I'm also removing null values in coordinates. After I do this, I select the columns I need"
   ]
  },
  {
   "cell_type": "code",
   "execution_count": 5,
   "metadata": {
    "collapsed": false
   },
   "outputs": [],
   "source": [
    "nycrez = nyc[((nyc['ZoneDist1'].str[:1] == 'R') | (nyc['ZoneDist2'].str[:1] == 'R') | \n",
    "             (nyc['ZoneDist2'].str[:1] == 'R') |  (nyc['ZoneDist2'].str[:1] == 'R') | \n",
    "             (nyc['ZoneDist1'].str.contains('/R')) | (nyc['ZoneDist2'].str.contains('/R')) |\n",
    "             (nyc['ZoneDist3'].str.contains('/R')) | (nyc['ZoneDist4'].str.contains('/R'))) &\n",
    "             (nyc['XCoord'].notnull())]"
   ]
  },
  {
   "cell_type": "code",
   "execution_count": 6,
   "metadata": {
    "collapsed": false
   },
   "outputs": [],
   "source": [
    "nycrez = nycrez[['Borough', 'Block', 'Lot', 'CD', 'CT2010', 'CB2010',\n",
    "                 'Council', 'BldgArea', 'ResArea', 'ResidFAR', 'CommFAR', \n",
    "                 'FacilFAR', 'BuiltFAR', 'LotArea', 'XCoord', 'YCoord', 'LandUse',\n",
    "                 'OwnerName', 'OwnerType', 'Address']]"
   ]
  },
  {
   "cell_type": "markdown",
   "metadata": {},
   "source": [
    "### Calculations"
   ]
  },
  {
   "cell_type": "markdown",
   "metadata": {},
   "source": [
    "These are the calculated columns that I'm basing my analysis on. I'm calculating the \"leftover FAR\" by just subtracting the built FAR from the ResidFAR.\n",
    "\n",
    "FAR stands for Floor Area Ratio, and is the measure that New York uses to regulate building heights. It's a unique way of either regulating a height directly, or allowing taller buildings in a plot if the entire plot isn't built up. For example, with a FAR of 2, I could use the whole lot to build a 2 story building, or use half the lot to build a 4 story building. If I want to build a taller building, I'm going to have to include some open space.\n",
    "\n",
    "The Pluto data also uses a unique projection. The definition of the projection the city uses is detailed here: http://www.nyc.gov/html/dcp/pdf/bytes/lion_metadata.pdf\n",
    "\n",
    "And the spacial reference of the projection is here:\n",
    "http://spatialreference.org/ref/esri/nad-1983-stateplane-new-york-long-island-fips-3104-feet/\n",
    "\n",
    "One key thing about this data is that the projection is in feet, while the basemap package that deals with projections only deals with meter coordinates. Before I found this out, I kept on mapping New York City to Northern Quebec..."
   ]
  },
  {
   "cell_type": "code",
   "execution_count": 7,
   "metadata": {
    "collapsed": false
   },
   "outputs": [],
   "source": [
    "nycrez['LeftoverResidFAR'] = nycrez['ResidFAR'] - nycrez['BuiltFAR']\n",
    "nycrez['XCoordMeters'] = nycrez['XCoord'] * 0.3048\n",
    "nycrez['YCoordMeters'] = nycrez['YCoord'] * 0.3048"
   ]
  },
  {
   "cell_type": "markdown",
   "metadata": {},
   "source": [
    "There's a huge variation with negative LeftoverResidFARs. My interpretation of this would be that taller buildings were constructed after zoning restrictions were put in place, and grandfathered in. I removed these, since I'm more interested in cases where the used FAR is below the allowed FAR."
   ]
  },
  {
   "cell_type": "code",
   "execution_count": 8,
   "metadata": {
    "collapsed": false
   },
   "outputs": [],
   "source": [
    "# There's a huge variation below 0. I'm guessing zoning restrictions\n",
    "# in some cases were put in after tall buildings were constructed.\n",
    "\n",
    "nycrez = nycrez[(nycrez['LeftoverResidFAR'] > 0)]"
   ]
  },
  {
   "cell_type": "markdown",
   "metadata": {},
   "source": [
    "Now, I could use the pyproj package to convert into latitude and longitude. In the spacial reference, the projection used is this:\n",
    "\n",
    "http://spatialreference.org/ref/epsg/wgs-84/"
   ]
  },
  {
   "cell_type": "code",
   "execution_count": 9,
   "metadata": {
    "collapsed": false
   },
   "outputs": [],
   "source": [
    "nyli = pyproj.Proj(\"+proj=lcc +lat_1=40.66666666666666 +lat_2=41.03333333333333 +lat_0=40.16666666666666 +lon_0=-74 +x_0=300000 +y_0=0 +ellps=GRS80 +datum=NAD83 +to_meter=0.3048006096012192 +no_defs\")\n",
    "wgs84 = pyproj.Proj(\"+proj=longlat +ellps=GRS80 +datum=NAD83 +no_defs\")\n",
    "\n",
    "\n",
    "\n",
    "nycrez['Lon'], nycrez['Lat'] = pyproj.transform(nyli, wgs84, nycrez['XCoordMeters'].values, nycrez['YCoordMeters'].values)\n"
   ]
  },
  {
   "cell_type": "markdown",
   "metadata": {},
   "source": [
    "### Non Geographic Analysis"
   ]
  },
  {
   "cell_type": "markdown",
   "metadata": {},
   "source": [
    "Lets look at the distribution of unused FAR:"
   ]
  },
  {
   "cell_type": "code",
   "execution_count": 10,
   "metadata": {
    "collapsed": false
   },
   "outputs": [
    {
     "data": {
      "text/plain": [
       "(array([  4.19168000e+05,   6.62900000e+04,   2.72740000e+04,\n",
       "          7.49800000e+03,   3.73800000e+03,   1.36500000e+03,\n",
       "          8.83000000e+02,   6.51000000e+02,   2.75000000e+02,\n",
       "          1.40000000e+02,   4.60000000e+01,   4.30000000e+01,\n",
       "          8.00000000e+00,   2.00000000e+01]),\n",
       " array([  1.00000000e-02,   8.66428571e-01,   1.72285714e+00,\n",
       "          2.57928571e+00,   3.43571429e+00,   4.29214286e+00,\n",
       "          5.14857143e+00,   6.00500000e+00,   6.86142857e+00,\n",
       "          7.71785714e+00,   8.57428571e+00,   9.43071429e+00,\n",
       "          1.02871429e+01,   1.11435714e+01,   1.20000000e+01]),\n",
       " <a list of 14 Patch objects>)"
      ]
     },
     "execution_count": 10,
     "metadata": {},
     "output_type": "execute_result"
    },
    {
     "data": {
      "image/png": "[encoded data removed]",
      "text/plain": [
       "<matplotlib.figure.Figure at 0x10429bba8>"
      ]
     },
     "metadata": {},
     "output_type": "display_data"
    }
   ],
   "source": [
    "\n",
    "\n",
    "fig = plt.figure()\n",
    "ax1 = fig.add_subplot(1,1,1)\n",
    "\n",
    "ax1.hist(nycrez['LeftoverResidFAR'].values, bins=14, color='k', alpha=0.3)"
   ]
  },
  {
   "cell_type": "markdown",
   "metadata": {},
   "source": [
    "This seemed very heavily skewed towards 0, so I filtered the dataframe:"
   ]
  },
  {
   "cell_type": "code",
   "execution_count": 11,
   "metadata": {
    "collapsed": false
   },
   "outputs": [
    {
     "data": {
      "text/plain": [
       "(array([ 3835.,  1864.,   824.,   999.,   793.,   283.,   219.,   171.,\n",
       "           33.,    38.,    40.,     5.,     9.,    17.]),\n",
       " array([  3.01      ,   3.65214286,   4.29428571,   4.93642857,\n",
       "          5.57857143,   6.22071429,   6.86285714,   7.505     ,\n",
       "          8.14714286,   8.78928571,   9.43142857,  10.07357143,\n",
       "         10.71571429,  11.35785714,  12.        ]),\n",
       " <a list of 14 Patch objects>)"
      ]
     },
     "execution_count": 11,
     "metadata": {},
     "output_type": "execute_result"
    },
    {
     "data": {
      "image/png": "[encoded data removed]",
      "text/plain": [
       "<matplotlib.figure.Figure at 0x103405ef0>"
      ]
     },
     "metadata": {},
     "output_type": "display_data"
    }
   ],
   "source": [
    "\n",
    "fig2 = plt.figure()\n",
    "ax2 = fig2.add_subplot(1,1,1)\n",
    "\n",
    "ax2.hist(nycrez['LeftoverResidFAR'][(nycrez['LeftoverResidFAR'] > 3)].values, bins=14, color='k', alpha=0.3)"
   ]
  },
  {
   "cell_type": "markdown",
   "metadata": {},
   "source": [
    "It's still pretty skewed, but we can at least get more of an idea of what's going on for the higher values of LeftoverResidFAR."
   ]
  },
  {
   "cell_type": "markdown",
   "metadata": {},
   "source": [
    "### Geographic Analysis"
   ]
  },
  {
   "cell_type": "markdown",
   "metadata": {},
   "source": [
    "For my geographic analysis, I wanted to try to get an idea of where there are pockets of unused FAR. I considered a few strategies in displaying this data. Simply coloring the points by unused FAR, and trying to find a way to \"bin\" the points to get a heat map were two of my first thoughts. Looking at the distribution of the data however, The detail of the unused FAR would be lost. A vast majority of the properties are built up to (or exceeding) their allowable FAR. \n",
    "\n",
    "Because of this, I decided to create a \"FARfilter\" variable that could be manipulated to change the map. If I were developing this as a tool, I would include this filter as an input, allowing people to change the map in an ad hoc way depending on what they'd like to look at.\n",
    "\n",
    "As an example below, I set the FARfilter to 4."
   ]
  },
  {
   "cell_type": "code",
   "execution_count": 12,
   "metadata": {
    "collapsed": false
   },
   "outputs": [
    {
     "data": {
      "text/plain": [
       "<matplotlib.text.Text at 0x10fc0a7b8>"
      ]
     },
     "execution_count": 12,
     "metadata": {},
     "output_type": "execute_result"
    },
    {
     "data": {
      "image/png": "[encoded data removed]",
      "text/plain": [
       "<matplotlib.figure.Figure at 0x10fb658d0>"
      ]
     },
     "metadata": {},
     "output_type": "display_data"
    }
   ],
   "source": [
    "###########################################\n",
    "#\n",
    "#\n",
    "FARfilter = 4\n",
    "#\n",
    "#\n",
    "############################################\n",
    "\n",
    "fig, axes = plt.subplots(nrows=1, ncols=1, figsize=(12, 10))\n",
    "fig.subplots_adjust(hspace=0.05, wspace=0.05)\n",
    "\n",
    "ax= axes\n",
    "\n",
    "lllat=40.481\n",
    "urlat=40.899\n",
    "lllon=-74.323\n",
    "urlon=-73.716\n",
    "\n",
    "m = Basemap(projection='stere',\n",
    "                lon_0=(urlon + lllon) / 2,\n",
    "                lat_0=(urlat + lllat) / 2,\n",
    "                llcrnrlat=lllat, urcrnrlat=urlat,\n",
    "                llcrnrlon=lllon, urcrnrlon=urlon,\n",
    "                resolution='f')\n",
    "m.drawcoastlines()\n",
    "m.drawcountries()\n",
    "m.drawstates()\n",
    "\n",
    "    \n",
    "x, y = m(nycrez['Lon'][nycrez['LeftoverResidFAR'] > FARfilter].values, nycrez['Lat'][nycrez['LeftoverResidFAR'] > FARfilter].values)\n",
    "    \n",
    "m.plot(x, y, 'k.', alpha=0.5)\n",
    "ax.set_title('Title')"
   ]
  },
  {
   "cell_type": "markdown",
   "metadata": {},
   "source": [
    "### Discussion"
   ]
  },
  {
   "cell_type": "markdown",
   "metadata": {},
   "source": [
    "Coming into this, I expected to see more swaths of land that were below their zoning potential. I expected to be able to draw conclusions about the desireability of a neighborhood and this zoning envelope, point out that there are places out there where developers could build more, but the demand doesn't warrent it. It looks like the fit is tighter than I expected (with a few notable exceptions.)\n",
    "\n",
    "There are a few areas that might be recognizable from high profile zoning decisions: the upzoning of Midtown East for example. In terms of areas with a larger envelope, I'm surprised to see a lot of prime Manhattan neighborhoods on this map. It suggests that something else must be going on with these neighborhoods. Perhaps higher rates of ownership in apartment buildings discourage developments of those properties.\n",
    "\n",
    "I came across this article after finishing up this work:\n",
    "\n",
    "http://www.capitalnewyork.com/article/city-hall/2014/02/8540743/quiet-massive-rezoning-new-york\n",
    "\n",
    "It's interesting to see the concept I'm arriving at here as the \"building envelope.\" The article looks like zoning changes across the boroughs. While there were some signature upzonings, a lot of the outer boroughs were downzoned to \"presereve neighborhood character.\" The strategy mentioned, downzoning the residential blocks and upzoning commercial arteries, can be seen in the linear patterns in Brooklyn and Queens. \n",
    "\n",
    "The strip of envelope in the West Bronx remains a mystery to me. That might be the closest to the more economic zoning envelope I mentioned above. Being from the Bronx, you definitely have seen an increase in development (from the \"Bronx is burning\" days of vacant lots.) It seems like demand might not have caught up with the capacity in these neighborhoods."
   ]
  },
  {
   "cell_type": "markdown",
   "metadata": {},
   "source": [
    "### Plotly Reproduction"
   ]
  },
  {
   "cell_type": "markdown",
   "metadata": {},
   "source": [
    "Inspired by <a href=\"https://plot.ly/ipython-notebooks/basemap-maps/\">this</a> example, I wanted to try to turn this into a Plotly map.\n",
    "\n",
    "First, I'll create a new function to filter the original PLUTO dataset:"
   ]
  },
  {
   "cell_type": "code",
   "execution_count": 13,
   "metadata": {
    "collapsed": true
   },
   "outputs": [],
   "source": [
    "def filter_far(df,filternum,rounding):\n",
    "    df = df[df.LeftoverResidFAR >= filternum]\n",
    "    \n",
    "    df.loc[:,'LonRound'] = df.Lon.round(rounding)\n",
    "    df.loc[:,'LatRound'] = df.Lat.round(rounding)\n",
    "    \n",
    "    df = df.groupby(['LonRound', 'LatRound']).size()\n",
    "    \n",
    "    df = df.reset_index(drop=False)\n",
    "    \n",
    "    df.columns = ['LonRound', 'LatRound', 'Count']\n",
    "    \n",
    "    return df"
   ]
  },
  {
   "cell_type": "markdown",
   "metadata": {},
   "source": [
    "Then, I'll use versions of the helper functions from the example. In this case, I'll keep the definition of m I used above rather than the bare minimum basemap. "
   ]
  },
  {
   "cell_type": "code",
   "execution_count": 14,
   "metadata": {
    "collapsed": true
   },
   "outputs": [],
   "source": [
    "lllat=40.55\n",
    "urlat=40.899\n",
    "lllon=-74.17\n",
    "urlon=-73.73\n",
    "\n",
    "m = Basemap(projection='stere',\n",
    "                lon_0=(urlon + lllon) / 2,\n",
    "                lat_0=(urlat + lllat) / 2,\n",
    "                llcrnrlat=lllat, urcrnrlat=urlat,\n",
    "                llcrnrlon=lllon, urcrnrlon=urlon,\n",
    "                resolution='f')\n",
    "\n",
    "def make_scatter(x,y):\n",
    "    return Scatter(\n",
    "        x = x,\n",
    "        y = y,\n",
    "        mode = 'lines',\n",
    "        line = Line(color = \"black\"),\n",
    "        name = ' '\n",
    "    )\n",
    "\n",
    "def polygons_to_traces(poly_paths, N_poly):\n",
    "    ''' \n",
    "    pos arg 1. (poly_paths): paths to polygons\n",
    "    pos arg 2. (N_poly): number of polygon to convert\n",
    "    '''\n",
    "    traces = []  # init. plotting list \n",
    "\n",
    "    for i_poly in range(N_poly):\n",
    "        poly_path = poly_paths[i_poly]\n",
    "        \n",
    "        # get the Basemap coordinates of each segment\n",
    "        coords_cc = np.array(\n",
    "            [(vertex[0],vertex[1]) \n",
    "             for (vertex,code) in poly_path.iter_segments(simplify=False)]\n",
    "        )\n",
    "        \n",
    "        # convert coordinates to lon/lat by 'inverting' the Basemap projection\n",
    "        lon_cc, lat_cc = m(coords_cc[:,0],coords_cc[:,1], inverse=True)\n",
    "        \n",
    "        # add plot.ly plotting options\n",
    "        traces.append(make_scatter(lon_cc,lat_cc))\n",
    "     \n",
    "    return traces\n",
    "\n",
    "# Function generating coastline lon/lat traces\n",
    "def get_coastline_traces():\n",
    "    poly_paths = m.drawcoastlines().get_paths() # coastline polygon paths\n",
    "    N_poly = len(poly_paths)\n",
    "    return polygons_to_traces(poly_paths, N_poly)\n",
    "\n",
    "# Function generating country lon/lat traces\n",
    "def get_country_traces():\n",
    "    poly_paths = m.drawcountries().get_paths() # country polygon paths\n",
    "    N_poly = len(poly_paths)  # use all countries\n",
    "    return polygons_to_traces(poly_paths, N_poly)\n",
    "\n",
    "def get_state_traces():\n",
    "    poly_paths = m.drawstates().get_paths()\n",
    "    N_poly = len(poly_paths)\n",
    "    return polygons_to_traces(poly_paths, N_poly)"
   ]
  },
  {
   "cell_type": "markdown",
   "metadata": {},
   "source": [
    "Now that I have the map centered, creating the data layers is very similar to the weather example"
   ]
  },
  {
   "cell_type": "code",
   "execution_count": 15,
   "metadata": {
    "collapsed": false
   },
   "outputs": [
    {
     "data": {
      "image/png": "[encoded data removed]",
      "text/plain": [
       "<matplotlib.figure.Figure at 0x10f8504a8>"
      ]
     },
     "metadata": {},
     "output_type": "display_data"
    }
   ],
   "source": [
    "traces_cc = get_coastline_traces()+get_state_traces()\n",
    "\n",
    "rounding = 2\n",
    "\n",
    "filtering = 1\n",
    "\n",
    "nycrezgroup = filter_far(nycrez,filtering,rounding)\n",
    "\n",
    "# Testing out a ratio measure. Didn't work out too well...\n",
    "\n",
    "#nycrezgroup0 = filter_far(nycrez,0,rounding)\n",
    "\n",
    "#nycrezgroup['Ratio'] = nycrezgroup.Count / nycrezgroup0.Count\n",
    "\n",
    "trace1 = Contour(\n",
    "    z=nycrezgroup.Count,\n",
    "    x=nycrezgroup.LonRound,\n",
    "    y=nycrezgroup.LatRound,\n",
    "    colorscale=\"PuBu\"\n",
    "    #zauto=False,  # custom contour levels\n",
    "    #zmin=-5,      # first contour level\n",
    "    #zmax=5        # last contour level  => colorscale is centered about 0\n",
    ")\n",
    "\n",
    "data = Data([trace1]+traces_cc)\n",
    "\n",
    "title = u\"New York City Zoning Envelope\"\n",
    "\n",
    "axis_style = dict(\n",
    "    zeroline=False,\n",
    "    showline=False,\n",
    "    showgrid=False,\n",
    "    ticks='',\n",
    "    showticklabels=False,\n",
    ")\n",
    "\n",
    "layout = Layout(\n",
    "    title=title,\n",
    "    showlegend=False,\n",
    "    hovermode=\"closest\",        # highlight closest point on hover\n",
    "    xaxis=XAxis(\n",
    "        axis_style,\n",
    "        range=[nycrezgroup.LonRound.ix[0],nycrezgroup.LonRound.tail(1)]  # restrict y-axis to range of lon\n",
    "    ),\n",
    "    yaxis=YAxis(\n",
    "        axis_style,\n",
    "    ),\n",
    "    autosize=False,\n",
    "    width=1000,\n",
    "    height=1000,\n",
    ")"
   ]
  },
  {
   "cell_type": "markdown",
   "metadata": {},
   "source": [
    "Lastly, I'll plot the results"
   ]
  },
  {
   "cell_type": "code",
   "execution_count": 16,
   "metadata": {
    "collapsed": false
   },
   "outputs": [
    {
     "data": {
      "text/html": [
       "<iframe id=\"igraph\" scrolling=\"no\" style=\"border:none;\"seamless=\"seamless\" src=\"https://plot.ly/~charleyferrari/24.embed\" height=\"1000px\" width=\"1000px\"></iframe>"
      ],
      "text/plain": [
       "<plotly.tools.PlotlyDisplay object>"
      ]
     },
     "execution_count": 16,
     "metadata": {},
     "output_type": "execute_result"
    }
   ],
   "source": [
    "fig = Figure(data=data, layout=layout)\n",
    "\n",
    "py.iplot(fig, filename=\"contour_map\", width=1000)"
   ]
  },
  {
   "cell_type": "markdown",
   "metadata": {},
   "source": [
    "This provides another view of the information presented in the scatter plot. Since the scatter plot is so dense, this gives more of an idea of where buildings with unused FAR are clustered. The coriders in Brooklyn for example have dense clusters of these buildings. This supports the hypothesis that the unused FAR here is mainly due to rezoning, while the lighter clusters in the Bronx may just be natural areas of underdevelopment."
   ]
  },
  {
   "cell_type": "markdown",
   "metadata": {
    "collapsed": true
   },
   "source": [
    "### Adding Interactivity with Restyle"
   ]
  },
  {
   "cell_type": "markdown",
   "metadata": {},
   "source": [
    "Ideally I would like a user to be able to filter the results by the number of floors available for development. This would help to further illustrate the nature of the zoning envelope. Is it only possible to add minor additions to buildings, or are major neighborhood changes possible?\n",
    "\n",
    "I'll have to pre-process the data a bit to make this possible. I'll create 10 categories of number of unused floors (with 10 being \"10 or more\"), and provide counts for each of them (making sure to reindex so the map is always sized properly.)"
   ]
  },
  {
   "cell_type": "code",
   "execution_count": 17,
   "metadata": {
    "collapsed": false
   },
   "outputs": [],
   "source": [
    "rounding = 2\n",
    "\n",
    "nyctotcount = filter_far(nycrez,1,rounding)\n",
    "\n",
    "nyctotcount['filtering'] = 1\n",
    "\n",
    "nycfilterref = nycrez[nycrez.LeftoverResidFAR >= 1]\n",
    "nycfilterref.loc[:,'LonRound'] = nycfilterref.Lon.round(rounding)\n",
    "nycfilterref.loc[:,'LatRound'] = nycfilterref.Lat.round(rounding)\n",
    "\n",
    "nycfilterref = nycfilterref.groupby(['LonRound', 'LatRound']).size()\n",
    "\n",
    "\n",
    "for filtering in np.arange(2,11):\n",
    "    nyctotcountap = nycrez[nycrez.LeftoverResidFAR >= filtering]\n",
    "    nyctotcountap = nyctotcountap[nyctotcountap.LeftoverResidFAR >= filtering]\n",
    "    nyctotcountap.loc[:,'LonRound'] = nyctotcountap.Lon.round(rounding)\n",
    "    nyctotcountap.loc[:,'LatRound'] = nyctotcountap.Lat.round(rounding)\n",
    "    \n",
    "    nyctotcountap = nyctotcountap.groupby(['LonRound', 'LatRound']).size()\n",
    "    \n",
    "    nyctotcountap = nyctotcountap.reindex(index = nycfilterref.index)\n",
    "    \n",
    "    nyctotcountap[nyctotcountap.isnull()] = 0\n",
    "    \n",
    "    nyctotcountap = nyctotcountap.reset_index(drop=False)\n",
    "    nyctotcountap.columns = ['LonRound', 'LatRound', 'Count']\n",
    "    \n",
    "    nyctotcountap['filtering'] = filtering\n",
    "    \n",
    "    nyctotcount = nyctotcount.append(nyctotcountap)"
   ]
  },
  {
   "cell_type": "markdown",
   "metadata": {},
   "source": [
    "In order to get this widget to work, I'll follow the example in <a href=\"http://nbviewer.ipython.org/gist/chriddyp/9827cb5086cfab8da092/Pandas%20Widget%20-%20Time%20Series,%20Search,%20and%20Filtering.ipynb\">this</a> notebook. Meaning, I'll import the graph as a "
   ]
  },
  {
   "cell_type": "code",
   "execution_count": 18,
   "metadata": {
    "collapsed": false
   },
   "outputs": [
    {
     "data": {
      "application/javascript": [
       "window.genUID = function() {\n",
       "    return 'xxxxxxxx-xxxx-4xxx-yxxx-xxxxxxxxxxxx'.replace(/[xy]/g, function(c) {\n",
       "        var r = Math.random()*16|0, v = c == 'x' ? r : (r&0x3|0x8);\n",
       "        return v.toString(16);\n",
       "    });\n",
       "};\n",
       "\n",
       "var IPYTHON_VERSION = '3';\n",
       "\n",
       "require([\"widgets/js/widget\", \"widgets/js/manager\"], function (widget, manager) {\n",
       "    if (!('DOMWidgetView' in widget)) {\n",
       "\n",
       "        // we're in IPython2, things moved a bit from 2 --> 3.\n",
       "        // construct the expected IPython3 widget API\n",
       "        IPYTHON_VERSION = '2';\n",
       "        manager = {WidgetManager: widget};\n",
       "        widget = {DOMWidgetView: IPython.DOMWidgetView};\n",
       "    }\n",
       "\n",
       "    var GraphView = widget.DOMWidgetView.extend({\n",
       "        render: function(){\n",
       "            var that = this;\n",
       "\n",
       "            var graphId = window.genUID();\n",
       "            var loadingId = 'loading-'+graphId;\n",
       "\n",
       "\n",
       "            var _graph_url = that.model.get('_graph_url');\n",
       "\n",
       "            // variable plotlyDomain in the case of enterprise\n",
       "            var url_parts = _graph_url.split('/');\n",
       "            var plotlyDomain = url_parts[0] + '//' + url_parts[2];\n",
       "\n",
       "            if(!('plotlyDomains' in window)){\n",
       "                window.plotlyDomains = {};\n",
       "            }\n",
       "            window.plotlyDomains[graphId] = plotlyDomain;\n",
       "\n",
       "            // Place IFrame in output cell div `$el`\n",
       "            that.$el.css('width', '100%');\n",
       "            that.$graph = $(['<iframe id=\"'+graphId+'\"',\n",
       "                             'src=\"'+_graph_url+'.embed\"',\n",
       "                             'seamless',\n",
       "                             'style=\"border: none;\"',\n",
       "                             'width=\"100%\"',\n",
       "                             'height=\"600\">',\n",
       "                             '</iframe>'].join(' '));\n",
       "            that.$graph.appendTo(that.$el);\n",
       "\n",
       "            that.$loading = $('<div id=\"'+loadingId+'\">Initializing...</div>')\n",
       "                            .appendTo(that.$el);\n",
       "\n",
       "            // for some reason the 'width' is being changed in IPython 3.0.0\n",
       "            // for the containing `div` element. There's a flicker here, but\n",
       "            // I was unable to fix it otherwise.\n",
       "            setTimeout(function ()  {\n",
       "                if (IPYTHON_VERSION === '3') {\n",
       "                    $('#' + graphId)[0].parentElement.style.width = '100%';\n",
       "                }\n",
       "            }, 500);\n",
       "\n",
       "            // initialize communication with the iframe\n",
       "            if(!('pingers' in window)){\n",
       "                window.pingers = {};\n",
       "            }\n",
       "\n",
       "            window.pingers[graphId] = setInterval(function() {\n",
       "                that.graphContentWindow = $('#'+graphId)[0].contentWindow;\n",
       "                that.graphContentWindow.postMessage({task: 'ping'}, plotlyDomain);\n",
       "            }, 200);\n",
       "\n",
       "            // Assign a message listener to the 'message' events\n",
       "            // from iframe's postMessage protocol.\n",
       "            // Filter the messages by iframe src so that the right message\n",
       "            // gets passed to the right widget\n",
       "            if(!('messageListeners' in window)){\n",
       "                 window.messageListeners = {};\n",
       "            }\n",
       "\n",
       "            window.messageListeners[graphId] = function(e) {\n",
       "                if(_graph_url.indexOf(e.origin)>-1) {\n",
       "                    var frame = document.getElementById(graphId);\n",
       "\n",
       "                    if(frame === null){\n",
       "                        // frame doesn't exist in the dom anymore, clean up it's old event listener\n",
       "                        window.removeEventListener('message', window.messageListeners[graphId]);\n",
       "                        clearInterval(window.pingers[graphId]);\n",
       "                    } else if(frame.contentWindow === e.source) {\n",
       "                        // TODO: Stop event propagation, so each frame doesn't listen and filter\n",
       "                        var frameContentWindow = $('#'+graphId)[0].contentWindow;\n",
       "                        var message = e.data;\n",
       "\n",
       "                        if('pong' in message && message.pong) {\n",
       "                            $('#loading-'+graphId).hide();\n",
       "                            clearInterval(window.pingers[graphId]);\n",
       "                            that.send({event: 'pong', graphId: graphId});\n",
       "                        } else if (message.type==='hover' ||\n",
       "                                   message.type==='zoom'  ||\n",
       "                                   message.type==='click' ||\n",
       "                                   message.type==='unhover') {\n",
       "\n",
       "                            // click and hover events contain all of the data in the traces,\n",
       "                            // which can be a very large object and may take a ton of time\n",
       "                            // to pass to the python backend. Strip out the data, and require\n",
       "                            // the user to call get_figure if they need trace information\n",
       "                            if(message.type !== 'zoom') {\n",
       "                                for(var i in message.points) {\n",
       "                                    delete message.points[i].data;\n",
       "                                    delete message.points[i].fullData;\n",
       "                                }\n",
       "                            }\n",
       "                            that.send({event: message.type, message: message, graphId: graphId});\n",
       "                        } else if (message.task === 'getAttributes') {\n",
       "                            that.send({event: 'getAttributes', response: message.response});\n",
       "                        }\n",
       "                    }\n",
       "                }\n",
       "            };\n",
       "\n",
       "            window.removeEventListener('message', window.messageListeners[graphId]);\n",
       "            window.addEventListener('message', window.messageListeners[graphId]);\n",
       "\n",
       "        },\n",
       "\n",
       "        update: function() {\n",
       "            // Listen for messages from the graph widget in python\n",
       "            var jmessage = this.model.get('_message');\n",
       "            var message = JSON.parse(jmessage);\n",
       "\n",
       "            // check for duplicate messages\n",
       "            if(!('messageIds' in window)){\n",
       "                window.messageIds = {};\n",
       "            }\n",
       "\n",
       "            if(!(message.uid in window.messageIds)){\n",
       "                // message hasn't been received yet, do stuff\n",
       "                window.messageIds[message.uid] = true;\n",
       "\n",
       "                if (message.fadeTo) {\n",
       "                    this.fadeTo(message);\n",
       "                } else {\n",
       "                    var plot = $('#' + message.graphId)[0].contentWindow;\n",
       "                    plot.postMessage(message, window.plotlyDomains[message.graphId]);\n",
       "                }\n",
       "            }\n",
       "\n",
       "            return GraphView.__super__.update.apply(this);\n",
       "        },\n",
       "\n",
       "        /**\n",
       "         * Wrapper for jquery's `fadeTo` function.\n",
       "         *\n",
       "         * @param message Contains the id we need to find the element.\n",
       "         */\n",
       "        fadeTo: function (message) {\n",
       "            var plot = $('#' + message.graphId);\n",
       "            plot.fadeTo(message.duration, message.opacity);\n",
       "        }\n",
       "    });\n",
       "\n",
       "    // Register the GraphView with the widget manager.\n",
       "    manager.WidgetManager.register_widget_view('GraphView', GraphView);\n",
       "\n",
       "});\n",
       "\n",
       "//@ sourceURL=graphWidget.js\n"
      ],
      "text/plain": [
       "<IPython.core.display.Javascript object>"
      ]
     },
     "metadata": {},
     "output_type": "display_data"
    }
   ],
   "source": [
    "from ipywidgets import *\n",
    "\n",
    "from plotly.widgets import GraphWidget\n",
    "\n",
    "from IPython.display import display, clear_output\n"
   ]
  },
  {
   "cell_type": "code",
   "execution_count": 19,
   "metadata": {
    "collapsed": false
   },
   "outputs": [],
   "source": [
    "\n",
    "g = GraphWidget('https://plot.ly/~charleyferrari/24')\n",
    "#x = y = np.arange(-5,5,0.1)\n",
    "#yt = x[:,np.newaxis]\n",
    "\n",
    "class z_data:\n",
    "    def __init__(self):\n",
    "        self.z = nyctotcount.loc[nyctotcount.filtering == 1,'Count']\n",
    "    \n",
    "    def on_z_change(self, name, old_value, new_value):\n",
    "        self.z = nyctotcount.loc[nyctotcount.filtering == new_value,'Count']\n",
    "        self.replot()\n",
    "        \n",
    "    def replot(self):\n",
    "        g.restyle({ 'z': [self.z] })\n",
    "\n",
    "z_slider = widgets.FloatSlider(min=1,max=10,value=1,step=1)\n",
    "z_slider.description = 'Number of Floors'\n",
    "z_slider.value = 1\n",
    "\n",
    "z_state = z_data()\n",
    "z_slider.on_trait_change(z_state.on_z_change, 'value')"
   ]
  },
  {
   "cell_type": "code",
   "execution_count": 20,
   "metadata": {
    "collapsed": false
   },
   "outputs": [],
   "source": [
    "\n",
    "display(z_slider)\n",
    "display(g)\n",
    "\n",
    "#g.restyle({'z' : nyctotcount.loc[nyctotcount.filtering == 1,'Count']})"
   ]
  }
 ],
 "metadata": {
  "kernelspec": {
   "display_name": "Python 3",
   "language": "python",
   "name": "python3"
  },
  "language_info": {
   "codemirror_mode": {
    "name": "ipython",
    "version": 3
   },
   "file_extension": ".py",
   "mimetype": "text/x-python",
   "name": "python",
   "nbconvert_exporter": "python",
   "pygments_lexer": "ipython3",
   "version": "3.5.1"
  }
 },
 "nbformat": 4,
 "nbformat_minor": 0
}
